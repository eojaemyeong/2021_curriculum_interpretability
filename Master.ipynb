{
 "cells": [
  {
   "cell_type": "code",
   "execution_count": 1,
   "id": "2eb932ae",
   "metadata": {},
   "outputs": [],
   "source": [
    "import pickle\n",
    "import matplotlib.pyplot as plt\n",
    "import keras\n",
    "from keras import backend as K\n",
    "from keras.models import Sequential\n",
    "from keras.layers import Conv2D, MaxPooling2D\n",
    "from keras.utils import np_utils\n",
    "from keras.layers.normalization import BatchNormalization\n",
    "from keras.layers import Dense, Dropout, Activation, Flatten\n",
    "\n",
    "#training batch size\n",
    "bs = 32\n",
    "#epoch for each batch\n",
    "ep = 10\n",
    "# the order of batches being trained\n",
    "curriculum = [1,2,3,4,5]\n"
   ]
  },
  {
   "cell_type": "code",
   "execution_count": 2,
   "id": "c07fc78e",
   "metadata": {},
   "outputs": [],
   "source": [
    "\n",
    "def train_data_unpickle(data_directory, batch_number):\n",
    "    with open(data_directory + '/data_batch_' + str(batch_number), mode='rb') as each:\n",
    "        batch_ = pickle.load(each, encoding='latin1')\n",
    "        # batch_label = batch_['batch_label']\n",
    "        data = batch_['data'].reshape((len(batch_['data']), 3, 32, 32)).transpose(0, 2, 3, 1)\n",
    "        # filenames = batch_['filenames']\n",
    "        labels = batch_['labels']\n",
    "    return data, labels\n",
    "    # return batch_label, data, filenames, labels\n",
    "# returns data, labels\n"
   ]
  },
  {
   "cell_type": "code",
   "execution_count": 3,
   "id": "f4f6f3fe",
   "metadata": {},
   "outputs": [],
   "source": [
    "def test__data_unpickle(data_directory):\n",
    "    with open(data_directory + '/test_batch', mode='rb') as each:\n",
    "        batch_ = pickle.load(each, encoding='latin1')\n",
    "        # batch_label = batch_['batch_label']\n",
    "        data = batch_['data'].reshape((len(batch_['data']), 3, 32, 32)).transpose(0, 2, 3, 1)\n",
    "        # filenames = batch_['filenames']\n",
    "        labels = batch_['labels']\n",
    "    return data, labels\n",
    "    # return batch_label, data, filenames, labels\n",
    "# returns data, labels"
   ]
  },
  {
   "cell_type": "code",
   "execution_count": 4,
   "id": "ee4128e1",
   "metadata": {},
   "outputs": [],
   "source": [
    "def reading_train_data (data_directory, batch_number):\n",
    "    train_data, train_labels = train_data_unpickle(data_directory, batch_number)\n",
    "    train_labels = np_utils.to_categorical (train_labels)\n",
    "    return train_data, train_labels\n",
    "# returns train_data, train_labels"
   ]
  },
  {
   "cell_type": "code",
   "execution_count": 5,
   "id": "f2fcf93f",
   "metadata": {},
   "outputs": [],
   "source": [
    "def reading_test__data (data_directory):\n",
    "    test__data, test__labels = test__data_unpickle(data_directory)\n",
    "    test__labels = np_utils.to_categorical(test__labels)\n",
    "    return test__data, test__labels\n",
    "# returns test__data, test__labels"
   ]
  },
  {
   "cell_type": "code",
   "execution_count": 6,
   "id": "4921462d",
   "metadata": {},
   "outputs": [],
   "source": [
    "def training_model(load, P_train_data, P_train_labels, P_test__data, P_test__labels):\n",
    "    model = Sequential()\n",
    "    if load == 0:\n",
    "        model.add(Conv2D(32, (3, 3), padding='same', input_shape=P_train_data.shape[1:]))\n",
    "        model.add(BatchNormalization())\n",
    "        model.add(Activation('relu'))\n",
    "        model.add(Conv2D(64, (3, 3)))\n",
    "        model.add(BatchNormalization())\n",
    "        model.add(Activation('relu'))\n",
    "        model.add(MaxPooling2D(pool_size=(2, 2)))\n",
    "        model.add(Dropout(0.25))\n",
    "        model.add(Conv2D(128, (3, 3), padding='same'))\n",
    "        model.add(BatchNormalization())\n",
    "        model.add(Activation('relu'))\n",
    "        model.add(Conv2D(64, (3, 3)))\n",
    "        model.add(BatchNormalization())\n",
    "        model.add(Activation('relu'))\n",
    "        model.add(MaxPooling2D(pool_size=(2, 2)))\n",
    "        model.add(Dropout(0.25))\n",
    "         \n",
    "        model.add(Flatten())\n",
    "        model.add(Dense(512))\n",
    "        model.add(BatchNormalization())\n",
    "        model.add(Activation('relu'))\n",
    "        model.add(Dropout(0.5))\n",
    "        model.add(Dense(10))\n",
    "        model.add(Activation('softmax'))\n",
    "        \n",
    "        model.compile(loss='categorical_crossentropy', optimizer='adam', metrics=['accuracy'])\n",
    "        K.set_value(model.optimizer.learning_rate, 0.001) \n",
    "        P_train_data = P_train_data.astype('float32')\n",
    "        P_test__data = P_test__data.astype('float32')\n",
    "        P_train_data /= 255\n",
    "        P_test__data /= 255\n",
    "         \n",
    "        hist = model.fit(P_train_data, P_train_labels, validation_data=(P_test__data, P_test__labels), batch_size = bs, epochs=ep)\n",
    "        \n",
    "        model.save(\"/home/eoj/Documents/model/without_curriculum.h5\")\n",
    "        return model, hist\n",
    "    else:\n",
    "        model = keras.models.load_model(\"/home/eoj/Documents/model/without_curriculum.h5\")\n",
    "        hist = model.fit(train_data, train_labels, validation_data=(test__data, test__labels), batch_size = bs, epochs=ep)\n",
    "        model.save(\"/home/eoj/Documents/model/without_curriculum.h5\")\n",
    "        return model, hist\n",
    "# returns model, hist\n"
   ]
  },
  {
   "cell_type": "code",
   "execution_count": 7,
   "id": "38f0c0bd",
   "metadata": {},
   "outputs": [],
   "source": [
    "def model_evaluation( batch_number, hist, test__data, test__labels ):\n",
    "    scores = model.evaluate(test__data, test__labels, verbose=0)\n",
    "    print(\"\\nBatch number \" + str(batch_number) + \": CNN Error: %.2f%%\" % (100-scores[1]*100))\n",
    "     \n",
    "    fig, acc_ax = plt.subplots()\n",
    "    \n",
    "    acc_ax.plot(hist.history['val_accuracy'], 'g', label='val acc')\n",
    "    \n",
    "    acc_ax.set_xlabel('epoch')\n",
    "    acc_ax.set_ylabel('accuracy')\n",
    "    \n",
    "    acc_ax.legend(loc='lower left')\n",
    "    plt.ylim(0,1) \n",
    "    plt.show()\n"
   ]
  },
  {
   "cell_type": "code",
   "execution_count": null,
   "id": "1b44582c",
   "metadata": {
    "scrolled": true
   },
   "outputs": [
    {
     "name": "stdout",
     "output_type": "stream",
     "text": [
      "Epoch 1/10\n",
      "313/313 [==============================] - 31s 62ms/step - loss: 2.1329 - accuracy: 0.3128 - val_loss: 2.5743 - val_accuracy: 0.1843\n",
      "Epoch 2/10\n",
      "313/313 [==============================] - 19s 60ms/step - loss: 1.4354 - accuracy: 0.4889 - val_loss: 1.3914 - val_accuracy: 0.5075\n",
      "Epoch 3/10\n",
      "313/313 [==============================] - 19s 61ms/step - loss: 1.2011 - accuracy: 0.5707 - val_loss: 1.3761 - val_accuracy: 0.5300\n",
      "Epoch 4/10\n",
      "313/313 [==============================] - 19s 60ms/step - loss: 1.0124 - accuracy: 0.6437 - val_loss: 1.2007 - val_accuracy: 0.5879\n",
      "Epoch 5/10\n",
      "313/313 [==============================] - 19s 60ms/step - loss: 0.9304 - accuracy: 0.6643 - val_loss: 1.0168 - val_accuracy: 0.6391\n",
      "Epoch 6/10\n",
      "313/313 [==============================] - 19s 60ms/step - loss: 0.8406 - accuracy: 0.7033 - val_loss: 1.0705 - val_accuracy: 0.6201\n",
      "Epoch 7/10\n",
      "313/313 [==============================] - 19s 60ms/step - loss: 0.7926 - accuracy: 0.7176 - val_loss: 1.1374 - val_accuracy: 0.6122\n",
      "Epoch 8/10\n",
      "313/313 [==============================] - 19s 59ms/step - loss: 0.6839 - accuracy: 0.7617 - val_loss: 1.1189 - val_accuracy: 0.6191\n",
      "Epoch 9/10\n",
      "313/313 [==============================] - 19s 62ms/step - loss: 0.6513 - accuracy: 0.7658 - val_loss: 0.9589 - val_accuracy: 0.6768\n",
      "Epoch 10/10\n",
      "313/313 [==============================] - 20s 63ms/step - loss: 0.6013 - accuracy: 0.7903 - val_loss: 1.0661 - val_accuracy: 0.6575\n",
      "\n",
      "Batch number 1: CNN Error: 81.92%\n"
     ]
    },
    {
     "data": {
      "image/png": "[encoded data removed]",
      "text/plain": [
       "<Figure size 432x288 with 1 Axes>"
      ]
     },
     "metadata": {
      "needs_background": "light"
     },
     "output_type": "display_data"
    },
    {
     "name": "stdout",
     "output_type": "stream",
     "text": [
      "Epoch 1/10\n",
      "313/313 [==============================] - 20s 61ms/step - loss: 1.0180 - accuracy: 0.6506 - val_loss: 0.8235 - val_accuracy: 0.7149\n",
      "Epoch 2/10\n",
      "313/313 [==============================] - 19s 60ms/step - loss: 0.8097 - accuracy: 0.7147 - val_loss: 0.8255 - val_accuracy: 0.7097\n",
      "Epoch 3/10\n",
      "313/313 [==============================] - 19s 60ms/step - loss: 0.7365 - accuracy: 0.7366 - val_loss: 0.8858 - val_accuracy: 0.6816\n",
      "Epoch 4/10\n",
      "313/313 [==============================] - 19s 60ms/step - loss: 0.6562 - accuracy: 0.7700 - val_loss: 1.0057 - val_accuracy: 0.6729\n",
      "Epoch 5/10\n",
      "313/313 [==============================] - 18s 58ms/step - loss: 0.5892 - accuracy: 0.7897 - val_loss: 0.8244 - val_accuracy: 0.7256\n",
      "Epoch 6/10\n",
      "313/313 [==============================] - 19s 60ms/step - loss: 0.5298 - accuracy: 0.8108 - val_loss: 0.9381 - val_accuracy: 0.6935\n",
      "Epoch 7/10\n",
      "313/313 [==============================] - 19s 60ms/step - loss: 0.4863 - accuracy: 0.8232 - val_loss: 0.8490 - val_accuracy: 0.7146\n",
      "Epoch 8/10\n",
      "313/313 [==============================] - 19s 60ms/step - loss: 0.4491 - accuracy: 0.8389 - val_loss: 0.7686 - val_accuracy: 0.7489\n",
      "Epoch 9/10\n",
      "313/313 [==============================] - 19s 60ms/step - loss: 0.4101 - accuracy: 0.8547 - val_loss: 0.7889 - val_accuracy: 0.7432\n",
      "Epoch 10/10\n",
      "313/313 [==============================] - 19s 60ms/step - loss: 0.3725 - accuracy: 0.8704 - val_loss: 0.8886 - val_accuracy: 0.7315\n",
      "\n",
      "Batch number 2: CNN Error: 26.85%\n"
     ]
    },
    {
     "data": {
      "image/png": "[encoded data removed]",
      "text/plain": [
       "<Figure size 432x288 with 1 Axes>"
      ]
     },
     "metadata": {
      "needs_background": "light"
     },
     "output_type": "display_data"
    },
    {
     "name": "stdout",
     "output_type": "stream",
     "text": [
      "Epoch 1/10\n",
      "313/313 [==============================] - 20s 62ms/step - loss: 0.9398 - accuracy: 0.6976 - val_loss: 0.7841 - val_accuracy: 0.7239\n",
      "Epoch 2/10\n",
      "313/313 [==============================] - 20s 63ms/step - loss: 0.6956 - accuracy: 0.7580 - val_loss: 0.7243 - val_accuracy: 0.7479\n",
      "Epoch 3/10\n",
      "312/313 [============================>.] - ETA: 0s - loss: 0.5966 - accuracy: 0.7883"
     ]
    }
   ],
   "source": [
    "\n",
    "test__data, test__labels = reading_test__data(\n",
    "    '/home/eoj/Documents/data/cifar-10-batches-py')\n",
    "\n",
    "train_data, train_labels = reading_train_data(\n",
    "    '/home/eoj/Documents/data/cifar-10-batches-py/', curriculum[0])\n",
    "model, hist = training_model(0, train_data, train_labels, test__data, test__labels)\n",
    "model_evaluation(curriculum[0] ,hist, test__data, test__labels)\n",
    "\n",
    "train_data, train_labels = reading_train_data(\n",
    "    '/home/eoj/Documents/data/cifar-10-batches-py/', curriculum[1])\n",
    "model, hist = training_model(-1, train_data, train_labels, test__data, test__labels)\n",
    "model_evaluation(curriculum[1] ,hist, test__data, test__labels)\n",
    "\n",
    "train_data, train_labels = reading_train_data(\n",
    "    '/home/eoj/Documents/data/cifar-10-batches-py/', curriculum[2])\n",
    "model, hist = training_model(-1, train_data, train_labels, test__data, test__labels)\n",
    "model_evaluation(curriculum[2],hist, test__data, test__labels)\n",
    "\n",
    "train_data, train_labels = reading_train_data(\n",
    "    '/home/eoj/Documents/data/cifar-10-batches-py/',curriculum[3])\n",
    "model, hist = training_model(-1, train_data, train_labels, test__data, test__labels)\n",
    "model_evaluation(curriculum[3], hist, test__data, test__labels)\n",
    "\n",
    "train_data, train_labels = reading_train_data(\n",
    "    '/home/eoj/Documents/data/cifar-10-batches-py/',curriculum[4])\n",
    "model, hist = training_model(-1, train_data, train_labels, test__data, test__labels)\n",
    "model_evaluation(curriculum[4], hist, test__data, test__labels)\n"
   ]
  },
  {
   "cell_type": "code",
   "execution_count": null,
   "id": "0a0a0c11",
   "metadata": {},
   "outputs": [],
   "source": []
  },
  {
   "cell_type": "code",
   "execution_count": null,
   "id": "68cb7cd8",
   "metadata": {},
   "outputs": [],
   "source": []
  }
 ],
 "metadata": {
  "kernelspec": {
   "display_name": "Python 3",
   "language": "python",
   "name": "python3"
  },
  "language_info": {
   "codemirror_mode": {
    "name": "ipython",
    "version": 3
   },
   "file_extension": ".py",
   "mimetype": "text/x-python",
   "name": "python",
   "nbconvert_exporter": "python",
   "pygments_lexer": "ipython3",
   "version": "3.8.8"
  }
 },
 "nbformat": 4,
 "nbformat_minor": 5
}
